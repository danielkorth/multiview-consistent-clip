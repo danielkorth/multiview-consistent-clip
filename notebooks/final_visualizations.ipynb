{
 "cells": [
  {
   "cell_type": "code",
   "execution_count": null,
   "metadata": {},
   "outputs": [],
   "source": [
    "from pathlib import Path\n",
    "import torch\n",
    "import matplotlib.pyplot as plt\n",
    "import os\n",
    "from torchmetrics.functional.pairwise import pairwise_cosine_similarity\n",
    "\n",
    "# gist_rainbow\n",
    "\n",
    "def plot(sim, title: str = \"CHANGE ME\", type: str = 'mean'):\n",
    "    plt.figure(figsize=(6, 6))\n",
    "    plt.imshow(sim, cmap='jet', interpolation='nearest')\n",
    "    plt.xticks(ticks=range(0, 36, 12), labels=range(1, 37, 12))\n",
    "    plt.yticks(ticks=range(0, 36, 12), labels=range(1, 37, 12))\n",
    "    if type == 'mean':\n",
    "        plt.title(title)\n",
    "        plt.clim(0, 1) \n",
    "    else: \n",
    "        plt.title(title)\n",
    "        plt.clim(0, 0.4) \n",
    "    \n",
    "    cbar = plt.colorbar(shrink=0.81)\n",
    "\n",
    "    plt.gcf().set_facecolor('white')\n",
    "    plt.gcf().set_alpha(0.0)\n",
    "\n",
    "def plot_big(sim, title: str = \"CHANGE ME\", type: str = 'mean'):\n",
    "    plt.figure(figsize=(6, 6))\n",
    "    plt.imshow(sim, cmap='jet', interpolation='nearest')\n",
    "    plt.xticks(ticks=[100, 3600], labels=['text', 'images'])\n",
    "    plt.yticks(ticks=[100, 3600], labels=['text', 'images'])\n",
    "    if type == 'mean':\n",
    "        plt.title(title)\n",
    "        plt.clim(0, 1) \n",
    "    else: \n",
    "        plt.title(title)\n",
    "        plt.clim(0, 0.4) \n",
    "    \n",
    "    cbar = plt.colorbar(shrink=0.81)\n",
    "\n",
    "    plt.gcf().set_facecolor('white')\n",
    "    plt.gcf().set_alpha(0.0)\n",
    "    plt.savefig(f\".png\", dpi=300,transparent=True)"
   ]
  },
  {
   "cell_type": "code",
   "execution_count": null,
   "metadata": {},
   "outputs": [],
   "source": [
    "x = torch.rand((7000, 7000))\n",
    "x[:206, :206] = 0\n",
    "x[206:, :206] = 1\n",
    "x[:206, 206:] = 1\n",
    "plot_big(x)"
   ]
  },
  {
   "cell_type": "code",
   "execution_count": null,
   "metadata": {},
   "outputs": [],
   "source": [
    "strawberry = \"/root/multiview-robust-clip/data/objaverse/renderings/dd6a424807614544835c8cc4529d6f0d\"\n",
    "banana = \"/root/multiview-robust-clip/data/objaverse/renderings/ade2b59ff37c44059433414f39c94abe\"\n",
    "apple_red_tasty = \"/root/multiview-robust-clip/data/objaverse/renderings/50492962b9f641669238d37e071e0bb9\""
   ]
  },
  {
   "cell_type": "code",
   "execution_count": null,
   "metadata": {},
   "outputs": [],
   "source": [
    "m"
   ]
  },
  {
   "cell_type": "code",
   "execution_count": null,
   "metadata": {},
   "outputs": [],
   "source": [
    "import glob\n",
    "\n",
    "pt_files = sorted(glob.glob(os.path.join(apple_red_tasty, '*.pt')))\n",
    "tensor_list = [torch.load(file) for file in pt_files]\n",
    "tensor = torch.stack(tensor_list)\n",
    "\n",
    "images = tensor[:36]\n",
    "text = tensor[36]"
   ]
  },
  {
   "cell_type": "code",
   "execution_count": null,
   "metadata": {},
   "outputs": [],
   "source": [
    "plot(pairwise_cosine_similarity(images, images))"
   ]
  },
  {
   "cell_type": "code",
   "execution_count": null,
   "metadata": {},
   "outputs": [],
   "source": [
    "plot(pairwise_cosine_similarity(images, images))"
   ]
  },
  {
   "cell_type": "code",
   "execution_count": null,
   "metadata": {},
   "outputs": [],
   "source": [
    "plot(pairwise_cosine_similarity(images, images))"
   ]
  },
  {
   "cell_type": "code",
   "execution_count": null,
   "metadata": {},
   "outputs": [],
   "source": [
    "plot(pairwise_cosine_similarity(images, images))"
   ]
  },
  {
   "cell_type": "code",
   "execution_count": null,
   "metadata": {},
   "outputs": [],
   "source": []
  }
 ],
 "metadata": {
  "kernelspec": {
   "display_name": "mvc",
   "language": "python",
   "name": "python3"
  },
  "language_info": {
   "codemirror_mode": {
    "name": "ipython",
    "version": 3
   },
   "file_extension": ".py",
   "mimetype": "text/x-python",
   "name": "python",
   "nbconvert_exporter": "python",
   "pygments_lexer": "ipython3",
   "version": "3.8.19"
  }
 },
 "nbformat": 4,
 "nbformat_minor": 2
}
