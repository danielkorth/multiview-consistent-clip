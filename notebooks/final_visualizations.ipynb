{
 "cells": [
  {
   "cell_type": "code",
   "execution_count": 1,
   "metadata": {},
   "outputs": [],
   "source": [
    "from pathlib import Path\n",
    "import torch\n",
    "import matplotlib.pyplot as plt\n",
    "\n",
    "def plot(sim, type: str = 'mean'):\n",
    "    plt.figure(figsize=(10, 10))\n",
    "    plt.imshow(sim, cmap='hot', interpolation='nearest')\n",
    "    if type == 'mean':\n",
    "        plt.title('Mean Cosine Similarity')\n",
    "    else: \n",
    "        plt.title('Std Cosine Similarity')\n",
    "        plt.clim(0, 0.4) \n",
    "    plt.colorbar()"
   ]
  },
  {
   "cell_type": "code",
   "execution_count": null,
   "metadata": {},
   "outputs": [],
   "source": [
    "strawberry = \"/root/multiview-robust-clip/data/objaverse/renderings/dd6a424807614544835c8cc4529d6f0d\"\n",
    "banana = \"/root/multiview-robust-clip/data/objaverse/renderings/ade2b59ff37c44059433414f39c94abe\"\n",
    "avocado = \"\""
   ]
  }
 ],
 "metadata": {
  "kernelspec": {
   "display_name": "mvc",
   "language": "python",
   "name": "python3"
  },
  "language_info": {
   "codemirror_mode": {
    "name": "ipython",
    "version": 3
   },
   "file_extension": ".py",
   "mimetype": "text/x-python",
   "name": "python",
   "nbconvert_exporter": "python",
   "pygments_lexer": "ipython3",
   "version": "3.8.19"
  }
 },
 "nbformat": 4,
 "nbformat_minor": 2
}
